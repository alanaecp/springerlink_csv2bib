{
 "cells": [
  {
   "cell_type": "code",
   "execution_count": 2,
   "metadata": {},
   "outputs": [],
   "source": [
    "import csv\n",
    "import urllib.request\n"
   ]
  },
  {
   "cell_type": "code",
   "execution_count": 7,
   "metadata": {},
   "outputs": [
    {
     "name": "stdout",
     "output_type": "stream",
     "text": [
      "https://citation-needed.springer.com/v2/references/10.1007/978-981-13-3600-3_29?format=bibtex&flavour=citation\n",
      "https://citation-needed.springer.com/v2/references/10.1007/s40692-014-0003-0?format=bibtex&flavour=citation\n",
      "https://citation-needed.springer.com/v2/references/10.1007/978-3-319-07353-8_64?format=bibtex&flavour=citation\n",
      "https://citation-needed.springer.com/v2/references/10.1007/978-3-319-39690-3_40?format=bibtex&flavour=citation\n",
      "https://citation-needed.springer.com/v2/references/10.1007/978-1-4614-1539-8_1?format=bibtex&flavour=citation\n",
      "https://citation-needed.springer.com/v2/references/10.1007/s10462-012-9344-0?format=bibtex&flavour=citation\n",
      "https://citation-needed.springer.com/v2/references/10.1007/978-3-319-74060-7_3?format=bibtex&flavour=citation\n",
      "https://citation-needed.springer.com/v2/references/10.1007/978-3-662-44447-4_1?format=bibtex&flavour=citation\n",
      "https://citation-needed.springer.com/v2/references/10.1007/978-3-540-27780-4_42?format=bibtex&flavour=citation\n",
      "https://citation-needed.springer.com/v2/references/10.1007/978-981-10-7242-0_24?format=bibtex&flavour=citation\n",
      "https://citation-needed.springer.com/v2/references/10.1007/978-3-642-03426-8_41?format=bibtex&flavour=citation\n",
      "https://citation-needed.springer.com/v2/references/10.1007/s10639-017-9667-1?format=bibtex&flavour=citation\n",
      "https://citation-needed.springer.com/v2/references/10.1007/978-3-642-15534-5_1?format=bibtex&flavour=citation\n",
      "https://citation-needed.springer.com/v2/references/10.1007/978-1-4419-1428-6_149?format=bibtex&flavour=citation\n",
      "https://citation-needed.springer.com/v2/references/10.1007/s10639-015-9445-x?format=bibtex&flavour=citation\n",
      "https://citation-needed.springer.com/v2/references/10.1007/978-81-322-1931-6_43?format=bibtex&flavour=citation\n",
      "https://citation-needed.springer.com/v2/references/10.1007/s40299-018-0402-5?format=bibtex&flavour=citation\n",
      "https://citation-needed.springer.com/v2/references/10.1007/s11423-009-9116-y?format=bibtex&flavour=citation\n",
      "https://citation-needed.springer.com/v2/references/10.1007/978-3-642-39146-0_13?format=bibtex&flavour=citation\n",
      "https://citation-needed.springer.com/v2/references/10.1007/978-3-642-05258-3_45?format=bibtex&flavour=citation\n",
      "https://citation-needed.springer.com/v2/references/10.1007/978-3-642-40814-4_29?format=bibtex&flavour=citation\n",
      "https://citation-needed.springer.com/v2/references/10.1007/s10780-015-9253-7?format=bibtex&flavour=citation\n",
      "https://citation-needed.springer.com/v2/references/10.1007/s12626-019-00032-6?format=bibtex&flavour=citation\n",
      "https://citation-needed.springer.com/v2/references/10.1007/978-3-642-12165-4_43?format=bibtex&flavour=citation\n",
      "https://citation-needed.springer.com/v2/references/10.1007/978-1-4020-8874-2_10?format=bibtex&flavour=citation\n",
      "https://citation-needed.springer.com/v2/references/10.1007/978-0-387-34731-8_14?format=bibtex&flavour=citation\n",
      "https://citation-needed.springer.com/v2/references/10.1007/978-3-642-14484-4_2?format=bibtex&flavour=citation\n",
      "https://citation-needed.springer.com/v2/references/10.1007/978-3-319-46568-5_13?format=bibtex&flavour=citation\n",
      "https://citation-needed.springer.com/v2/references/10.1007/978-3-319-40397-7_17?format=bibtex&flavour=citation\n",
      "https://citation-needed.springer.com/v2/references/10.1007/s10639-016-9551-4?format=bibtex&flavour=citation\n",
      "https://citation-needed.springer.com/v2/references/10.1007/978-3-319-70377-0_57?format=bibtex&flavour=citation\n",
      "https://citation-needed.springer.com/v2/references/10.1007/s11423-011-9215-4?format=bibtex&flavour=citation\n",
      "https://citation-needed.springer.com/v2/references/10.1007/s10763-004-6827-8?format=bibtex&flavour=citation\n",
      "https://citation-needed.springer.com/v2/references/10.1186/s12909-019-1749-x?format=bibtex&flavour=citation\n",
      "https://citation-needed.springer.com/v2/references/10.1007/978-3-319-50340-0_8?format=bibtex&flavour=citation\n",
      "https://citation-needed.springer.com/v2/references/10.1007/s10798-019-09536-2?format=bibtex&flavour=citation\n",
      "https://citation-needed.springer.com/v2/references/10.1007/s40299-014-0185-2?format=bibtex&flavour=citation\n",
      "https://citation-needed.springer.com/v2/references/10.1007/978-3-642-16318-0_25?format=bibtex&flavour=citation\n",
      "https://citation-needed.springer.com/v2/references/10.1007/978-3-642-22194-1_80?format=bibtex&flavour=citation\n",
      "https://citation-needed.springer.com/v2/references/10.1007/978-3-642-23190-2_14?format=bibtex&flavour=citation\n",
      "https://citation-needed.springer.com/v2/references/10.1007/978-3-642-21619-0_6?format=bibtex&flavour=citation\n",
      "https://citation-needed.springer.com/v2/references/10.1007/978-3-319-33865-1_71?format=bibtex&flavour=citation\n",
      "https://citation-needed.springer.com/v2/references/10.1007/978-3-642-22383-9_25?format=bibtex&flavour=citation\n",
      "https://citation-needed.springer.com/v2/references/10.1007/978-3-319-49109-7_89?format=bibtex&flavour=citation\n",
      "https://citation-needed.springer.com/v2/references/10.1007/978-3-540-76361_3?format=bibtex&flavour=citation\n",
      "https://citation-needed.springer.com/v2/references/10.1007/978-3-642-14533-9_16?format=bibtex&flavour=citation\n",
      "https://citation-needed.springer.com/v2/references/10.1007/s10462-016-9469-7?format=bibtex&flavour=citation\n",
      "https://citation-needed.springer.com/v2/references/10.1007/978-3-030-11928-7_70?format=bibtex&flavour=citation\n",
      "https://citation-needed.springer.com/v2/references/10.1007/978-3-319-17103-6_17?format=bibtex&flavour=citation\n",
      "https://citation-needed.springer.com/v2/references/10.1007/978-3-319-42092-9_30?format=bibtex&flavour=citation\n",
      "https://citation-needed.springer.com/v2/references/10.1186/s40468-015-0017-1?format=bibtex&flavour=citation\n",
      "https://citation-needed.springer.com/v2/references/10.1007/s10209-007-0101-0?format=bibtex&flavour=citation\n",
      "https://citation-needed.springer.com/v2/references/10.1007/s10798-010-9135-3?format=bibtex&flavour=citation\n",
      "TOTAL:  54\n"
     ]
    }
   ],
   "source": [
    "with open('SpringLink_SearchResults.csv') as csv_file:\n",
    "    csv_reader = csv.reader(csv_file, delimiter=',')\n",
    "    line_count = 0\n",
    "    for row in csv_reader:\n",
    "        doi = row[5]\n",
    "        line_count += 1\n",
    "        \n",
    "        if line_count > 1:\n",
    "            filename = '{}.bib'.format(line_count)\n",
    "            with open(filename, 'w') as f:\n",
    "                url = \"https://citation-needed.springer.com/v2/references/{}?format=bibtex&flavour=citation\".format(doi)\n",
    "                print(url)\n",
    "                urllib.request.urlretrieve(url, filename)\n",
    "        \n",
    "\n",
    "print('TOTAL: ', line_count)\n",
    "\n"
   ]
  },
  {
   "cell_type": "code",
   "execution_count": null,
   "metadata": {},
   "outputs": [],
   "source": []
  }
 ],
 "metadata": {
  "kernelspec": {
   "display_name": "Python 3",
   "language": "python",
   "name": "python3"
  },
  "language_info": {
   "codemirror_mode": {
    "name": "ipython",
    "version": 3
   },
   "file_extension": ".py",
   "mimetype": "text/x-python",
   "name": "python",
   "nbconvert_exporter": "python",
   "pygments_lexer": "ipython3",
   "version": "3.7.0"
  }
 },
 "nbformat": 4,
 "nbformat_minor": 2
}
